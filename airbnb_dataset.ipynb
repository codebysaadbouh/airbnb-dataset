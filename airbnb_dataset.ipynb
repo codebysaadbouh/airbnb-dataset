{
 "cells": [
  {
   "cell_type": "code",
   "execution_count": 1,
   "id": "db756246-3fb3-480f-9c56-2f81237f17d3",
   "metadata": {},
   "outputs": [
    {
     "name": "stdout",
     "output_type": "stream",
     "text": [
      "root\n",
      " |-- id: string (nullable = true)\n",
      " |-- NAME: string (nullable = true)\n",
      " |-- host id: string (nullable = true)\n",
      " |-- host_identity_verified: string (nullable = true)\n",
      " |-- host name: string (nullable = true)\n",
      " |-- neighbourhood group: string (nullable = true)\n",
      " |-- neighbourhood: string (nullable = true)\n",
      " |-- lat: string (nullable = true)\n",
      " |-- long: string (nullable = true)\n",
      " |-- country: string (nullable = true)\n",
      " |-- country code: string (nullable = true)\n",
      " |-- instant_bookable: string (nullable = true)\n",
      " |-- cancellation_policy: string (nullable = true)\n",
      " |-- room type: string (nullable = true)\n",
      " |-- Construction year: string (nullable = true)\n",
      " |-- price: string (nullable = true)\n",
      " |-- service fee: string (nullable = true)\n",
      " |-- minimum nights: string (nullable = true)\n",
      " |-- number of reviews: string (nullable = true)\n",
      " |-- last review: string (nullable = true)\n",
      " |-- reviews per month: string (nullable = true)\n",
      " |-- review rate number: string (nullable = true)\n",
      " |-- calculated host listings count: double (nullable = true)\n",
      " |-- availability 365: string (nullable = true)\n",
      " |-- house_rules: string (nullable = true)\n",
      " |-- license: string (nullable = true)\n",
      "\n"
     ]
    }
   ],
   "source": [
    "from pyspark.sql import SparkSession\n",
    "from pyspark.sql.functions import * \n",
    "from pyspark.sql.types import * \n",
    "\n",
    "spark = SparkSession.builder.master('local').appName('airbnb') .getOrCreate()\n",
    "\n",
    "df_airbnb_US = spark.read.format(\"csv\").option(\"header\",\"true\").option(\"inferSchema\",\"true\").load('./airbnb_dataset.csv')\n",
    "\n",
    "print(\"\\n----- Schema Airbnb dataframe : -----\")\n",
    "df_airbnb_US.printSchema()"
   ]
  },
  {
   "cell_type": "code",
   "execution_count": 4,
   "id": "72aa3870-b05d-4795-8d04-10bbdec177d5",
   "metadata": {},
   "outputs": [
    {
     "name": "stdout",
     "output_type": "stream",
     "text": [
      "root\n",
      " |-- host_identity_verified: string (nullable = true)\n",
      " |-- neighbourhood group: string (nullable = true)\n",
      " |-- neighbourhood: string (nullable = true)\n",
      " |-- instant_bookable: string (nullable = true)\n",
      " |-- cancellation_policy: string (nullable = true)\n",
      " |-- room type: string (nullable = true)\n",
      " |-- price: string (nullable = true)\n",
      " |-- Construction year: string (nullable = true)\n",
      " |-- minimum nights: string (nullable = true)\n",
      " |-- review rate number: string (nullable = true)\n",
      "\n",
      "+----------------------+-------------------+------------------+----------------+-------------------+---------------+-------+-----------------+--------------+------------------+\n",
      "|host_identity_verified|neighbourhood group|     neighbourhood|instant_bookable|cancellation_policy|      room type|  price|Construction year|minimum nights|review rate number|\n",
      "+----------------------+-------------------+------------------+----------------+-------------------+---------------+-------+-----------------+--------------+------------------+\n",
      "|           unconfirmed|           Brooklyn|        Kensington|           FALSE|             strict|   Private room|  $966 |             2020|            10|                 4|\n",
      "|              verified|          Manhattan|           Midtown|           FALSE|           moderate|Entire home/apt|  $142 |             2007|            30|                 4|\n",
      "|                  null|          Manhattan|            Harlem|            TRUE|           flexible|   Private room|  $620 |             2005|             3|                 5|\n",
      "|           unconfirmed|           Brooklyn|      Clinton Hill|            TRUE|           moderate|Entire home/apt|  $368 |             2005|            30|                 4|\n",
      "|              verified|          Manhattan|       East Harlem|           FALSE|           moderate|Entire home/apt|  $204 |             2009|            10|                 3|\n",
      "|              verified|          Manhattan|       Murray Hill|            TRUE|           flexible|Entire home/apt|  $577 |             2013|             3|                 3|\n",
      "|                  null|           Brooklyn|Bedford-Stuyvesant|           FALSE|           moderate|   Private room|   $71 |             2015|            45|                 5|\n",
      "|           unconfirmed|           Brooklyn|Bedford-Stuyvesant|           FALSE|           moderate|   Private room|$1,060 |             2009|            45|                 5|\n",
      "|              verified|          Manhattan|    Hell's Kitchen|            TRUE|             strict|   Private room|$1,018 |             2005|             2|                 3|\n",
      "|           unconfirmed|          Manhattan|   Upper West Side|           FALSE|             strict|   Private room|  $291 |             2015|             2|                 5|\n",
      "|              verified|          Manhattan|         Chinatown|           FALSE|           flexible|Entire home/apt|  $319 |             2004|             1|                 3|\n",
      "|              verified|          Manhattan|   Upper West Side|            TRUE|           flexible|Entire home/apt|  $606 |             2008|             5|                 4|\n",
      "|              verified|          Manhattan|    Hell's Kitchen|           FALSE|             strict|   Private room|  $714 |             2008|             2|                 4|\n",
      "|              verified|            brookln|       South Slope|            TRUE|           moderate|   Private room|  $580 |             2010|             4|                 4|\n",
      "|              verified|          Manhattan|   Upper West Side|           FALSE|           flexible|   Private room|  $149 |             2019|             2|                 3|\n",
      "|              verified|          Manhattan|      West Village|            TRUE|           flexible|Entire home/apt|  $578 |             2018|            90|                 3|\n",
      "|           unconfirmed|           Brooklyn|      Williamsburg|            null|           moderate|Entire home/apt|  $778 |             2009|             2|                 3|\n",
      "|              verified|           Brooklyn|       Fort Greene|            null|           flexible|Entire home/apt|  $656 |             2006|             2|                 5|\n",
      "|              verified|           manhatan|           Chelsea|            null|           moderate|   Private room|  $460 |             2008|             1|                 3|\n",
      "|                  null|           Brooklyn|     Crown Heights|            null|           moderate|Entire home/apt|$1,095 |             2004|             3|                 5|\n",
      "+----------------------+-------------------+------------------+----------------+-------------------+---------------+-------+-----------------+--------------+------------------+\n",
      "only showing top 20 rows\n",
      "\n"
     ]
    }
   ],
   "source": [
    "df_airbnb_US_col_select = df_airbnb_US.select(\"host_identity_verified\", \"neighbourhood group\", \"neighbourhood\", \"instant_bookable\", \"cancellation_policy\", \"room type\", \"price\", \"Construction year\", \"minimum nights\", \"review rate number\")\n",
    "\n",
    "df_airbnb_US_col_select.printSchema(); \n",
    "df_airbnb_US_col_select.show(); "
   ]
  }
 ],
 "metadata": {
  "kernelspec": {
   "display_name": "Python 3 (ipykernel)",
   "language": "python",
   "name": "python3"
  },
  "language_info": {
   "codemirror_mode": {
    "name": "ipython",
    "version": 3
   },
   "file_extension": ".py",
   "mimetype": "text/x-python",
   "name": "python",
   "nbconvert_exporter": "python",
   "pygments_lexer": "ipython3",
   "version": "3.10.6"
  },
  "vscode": {
   "interpreter": {
    "hash": "369f2c481f4da34e4445cda3fffd2e751bd1c4d706f27375911949ba6bb62e1c"
   }
  }
 },
 "nbformat": 4,
 "nbformat_minor": 5
}
