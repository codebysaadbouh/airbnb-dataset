{
 "cells": [
  {
   "cell_type": "code",
   "execution_count": 1,
   "id": "db756246-3fb3-480f-9c56-2f81237f17d3",
   "metadata": {},
   "outputs": [
    {
     "name": "stdout",
     "output_type": "stream",
     "text": [
      "root\n",
      " |-- id: string (nullable = true)\n",
      " |-- NAME: string (nullable = true)\n",
      " |-- host id: string (nullable = true)\n",
      " |-- host_identity_verified: string (nullable = true)\n",
      " |-- host name: string (nullable = true)\n",
      " |-- neighbourhood group: string (nullable = true)\n",
      " |-- neighbourhood: string (nullable = true)\n",
      " |-- lat: string (nullable = true)\n",
      " |-- long: string (nullable = true)\n",
      " |-- country: string (nullable = true)\n",
      " |-- country code: string (nullable = true)\n",
      " |-- instant_bookable: string (nullable = true)\n",
      " |-- cancellation_policy: string (nullable = true)\n",
      " |-- room type: string (nullable = true)\n",
      " |-- Construction year: string (nullable = true)\n",
      " |-- price: string (nullable = true)\n",
      " |-- service fee: string (nullable = true)\n",
      " |-- minimum nights: string (nullable = true)\n",
      " |-- number of reviews: string (nullable = true)\n",
      " |-- last review: string (nullable = true)\n",
      " |-- reviews per month: string (nullable = true)\n",
      " |-- review rate number: string (nullable = true)\n",
      " |-- calculated host listings count: double (nullable = true)\n",
      " |-- availability 365: string (nullable = true)\n",
      " |-- house_rules: string (nullable = true)\n",
      " |-- license: string (nullable = true)\n",
      "\n"
     ]
    }
   ],
   "source": [
    "from pyspark.sql import SparkSession\n",
    "from pyspark.sql.functions import * \n",
    "from pyspark.sql.types import * \n",
    "\n",
    "spark = SparkSession.builder.master('local').appName('airbnb') .getOrCreate()\n",
    "\n",
    "df_airbnb_US = spark.read.format(\"csv\").option(\"header\",\"true\").option(\"inferSchema\",\"true\").load('./airbnb_dataset.csv')\n",
    "\n",
    "print(\"\\n----- Schema Airbnb dataframe : -----\")\n",
    "df_airbnb_US.printSchema()"
   ]
  },
  {
   "cell_type": "code",
   "execution_count": null,
   "id": "72aa3870-b05d-4795-8d04-10bbdec177d5",
   "metadata": {},
   "outputs": [],
   "source": [
    "df_airbnb_US_col_select = df_airbnb_US.select(\"\")"
   ]
  }
 ],
 "metadata": {
  "kernelspec": {
   "display_name": "Python 3 (ipykernel)",
   "language": "python",
   "name": "python3"
  },
  "language_info": {
   "codemirror_mode": {
    "name": "ipython",
    "version": 3
   },
   "file_extension": ".py",
   "mimetype": "text/x-python",
   "name": "python",
   "nbconvert_exporter": "python",
   "pygments_lexer": "ipython3",
   "version": "3.10.6"
  },
  "vscode": {
   "interpreter": {
    "hash": "369f2c481f4da34e4445cda3fffd2e751bd1c4d706f27375911949ba6bb62e1c"
   }
  }
 },
 "nbformat": 4,
 "nbformat_minor": 5
}
